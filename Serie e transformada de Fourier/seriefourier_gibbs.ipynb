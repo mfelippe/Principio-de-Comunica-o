{
 "cells": [
  {
   "cell_type": "code",
   "execution_count": 16,
   "metadata": {
    "collapsed": true
   },
   "outputs": [],
   "source": [
    "import numpy as np\n",
    "import matplotlib.pyplot as plt\n",
    "import pandas as pd\n"
   ]
  },
  {
   "cell_type": "code",
   "execution_count": 17,
   "outputs": [],
   "source": [
    "def clockGen(T_0):\n",
    "\n",
    "    nPoints = 100\n",
    "    t = np.linspace(0,T_0,nPoints)\n",
    "    output = np.ones(len(t))\n",
    "    output[int(nPoints/2)::] = -1*output[int(nPoints/2)::]\n",
    "    return output,t\n",
    "\n",
    "\n"
   ],
   "metadata": {
    "collapsed": false,
    "pycharm": {
     "name": "#%%\n"
    }
   }
  },
  {
   "cell_type": "code",
   "execution_count": null,
   "outputs": [],
   "source": [
    "T_0 = 10e-5\n",
    "x,t = clockGen(T_0)"
   ],
   "metadata": {
    "collapsed": false,
    "pycharm": {
     "name": "#%%\n"
    }
   }
  },
  {
   "cell_type": "code",
   "execution_count": null,
   "outputs": [],
   "source": [
    "plt.plot(t,x)\n",
    "plt.show()\n",
    "\n"
   ],
   "metadata": {
    "collapsed": false,
    "pycharm": {
     "name": "#%%\n"
    }
   }
  },
  {
   "cell_type": "code",
   "execution_count": 20,
   "outputs": [],
   "source": [
    "f0 = 1/T_0\n",
    "b_1 = 4/np.pi * np.sin(2*np.pi*f0*t)\n",
    "b_3 = 4/np.pi * 1/3*np.sin(2*np.pi*3*f0*t)\n",
    "b_5 = 4/np.pi * 1/5*np.sin(2*np.pi*5*f0*t)"
   ],
   "metadata": {
    "collapsed": false,
    "pycharm": {
     "name": "#%%\n"
    }
   }
  },
  {
   "cell_type": "code",
   "execution_count": 21,
   "outputs": [],
   "source": [
    "def sf_quadrada(N,f0,t):\n",
    "\n",
    "    n = np.linspace(0,N-1,N).astype(int)\n",
    "    n_l = 2*n + 1\n",
    "    a= np.zeros(t.size)\n",
    "    for ii in n_l:\n",
    "        a = a +  (4/np.pi) * 1/(ii)*np.sin(2*np.pi*ii*f0*t)\n",
    "    return a,t"
   ],
   "metadata": {
    "collapsed": false,
    "pycharm": {
     "name": "#%%\n"
    }
   }
  },
  {
   "cell_type": "code",
   "execution_count": 22,
   "outputs": [
    {
     "data": {
      "text/plain": "<Figure size 432x288 with 1 Axes>",
      "image/png": "[encoded data removed]"
     },
     "metadata": {
      "needs_background": "light"
     },
     "output_type": "display_data"
    }
   ],
   "source": [
    "a,t = sf_quadrada(20,f0,t)\n",
    "plt.plot(t,x)\n",
    "plt.plot(t,a)\n",
    "plt.show()"
   ],
   "metadata": {
    "collapsed": false,
    "pycharm": {
     "name": "#%%\n"
    }
   }
  },
  {
   "cell_type": "code",
   "execution_count": 23,
   "outputs": [],
   "source": [
    "b_1,t = sf_quadrada(1,f0,t)\n",
    "b_2,t = sf_quadrada(2,f0,t)\n",
    "b_4,t = sf_quadrada(4,f0,t)\n",
    "b_8,t = sf_quadrada(8,f0,t)\n",
    "b_16,t = sf_quadrada(16,f0,t)\n",
    "b_32,t = sf_quadrada(32,f0,t)\n",
    "var = {'y_axis': x,\n",
    "       'time':t,\n",
    "       'b_1':b_1,\n",
    "       'b_2':b_2,\n",
    "       'b_4':b_4,\n",
    "       'b_8':b_8,\n",
    "       'b_16':b_16,\n",
    "       'b_32':b_32,}\n",
    "\n",
    "\n",
    "# Crie um pasta Data para salvar os dados da simulação\n",
    "path = 'Data/file_gibbs.csv'\n",
    "df = pd.DataFrame(data=var)\n",
    "df.to_csv(path,index=False,encoding='utf-8')"
   ],
   "metadata": {
    "collapsed": false,
    "pycharm": {
     "name": "#%%\n"
    }
   }
  },
  {
   "cell_type": "code",
   "execution_count": 23,
   "outputs": [],
   "source": [
    "\n"
   ],
   "metadata": {
    "collapsed": false,
    "pycharm": {
     "name": "#%%\n"
    }
   }
  }
 ],
 "metadata": {
  "kernelspec": {
   "display_name": "Python 3",
   "language": "python",
   "name": "python3"
  },
  "language_info": {
   "codemirror_mode": {
    "name": "ipython",
    "version": 2
   },
   "file_extension": ".py",
   "mimetype": "text/x-python",
   "name": "python",
   "nbconvert_exporter": "python",
   "pygments_lexer": "ipython2",
   "version": "2.7.6"
  }
 },
 "nbformat": 4,
 "nbformat_minor": 0
}